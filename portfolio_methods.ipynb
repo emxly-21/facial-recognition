{
 "cells": [
  {
   "cell_type": "code",
   "execution_count": null,
   "metadata": {},
   "outputs": [],
   "source": [
    "def update_profile(des, name, db):\n",
    "    '''\n",
    "    Updates the profile of the recognized person by adding the descriptor\n",
    "    for the current picture into the database.\n",
    "\n",
    "    Parameters\n",
    "    ----------\n",
    "    des : numpy.ndarray[numpy.float32]\n",
    "        128-dimensional descriptor taken from the image of the recognized\n",
    "        person's face\n",
    "    \n",
    "    name : string\n",
    "        Name of the recognized person\n",
    "    \n",
    "    db : Dictionary[string, Tuple[string, List[numpy.ndarray[numpy.float32]], numpy.ndarray[numpy.float32]]]\n",
    "        Database containing current profiles, with the keys as the people's\n",
    "        names and the values as tuples with their (names, descriptors,\n",
    "        mean descriptors).\n",
    "\n",
    "    Returns\n",
    "    -------\n",
    "    Dictionary[string, Tuple[string, List[numpy.ndarray[numpy.float32]], numpy.ndarray[numpy.float32]]]\n",
    "        Updated database with descriptor from current picture added into the\n",
    "        recognized person's portfolio.\n",
    "\n",
    "    '''\n",
    "    cur_name, des_list, mean_des = db[name]\n",
    "    des_list.append(des)\n",
    "    for val in range(len(mean_des)):\n",
    "        mean_des[val] *= len(des_list-1)\n",
    "        mean_des[val] += des[val]\n",
    "        mean_des[val] /= len(des_list)\n",
    "    value = (name, des_list, mean)"
   ]
  },
  {
   "cell_type": "code",
   "execution_count": null,
   "metadata": {},
   "outputs": [],
   "source": [
    "def create_portfolio(des, name, db):\n",
    "    '''\n",
    "    Creates the profile of the recognized person by adding the name of the\n",
    "    person and descriptor for the current picture into the database.\n",
    "\n",
    "    Parameters\n",
    "    ----------\n",
    "    des : numpy.ndarray[numpy.float32]\n",
    "        128-dimensional descriptor taken from the image of the recognized\n",
    "        person's face\n",
    "    \n",
    "    name : string\n",
    "        Name of the recognized person\n",
    "    \n",
    "    db : Dictionary[string, Tuple[string, numpy.ndarray[numpy.ndarray[numpy.float32]], numpy.ndarray[numpy.float32]]]\n",
    "        Database containing current profiles, with the keys as the people's\n",
    "        names and the values as tuples with their (names, descriptors,\n",
    "        mean descriptors).\n",
    "\n",
    "    Returns\n",
    "    -------\n",
    "    Dictionary[string, Tuple[string, List[numpy.ndarray[numpy.float32]], numpy.ndarray[numpy.float32]]]\n",
    "        Updated database with descriptor from current picture added into the\n",
    "        recognized person's portfolio.\n",
    "\n",
    "    '''\n",
    "    value = (name, [des], des)\n",
    "    db[name] = value\n",
    "    return db"
   ]
  }
 ],
 "metadata": {
  "kernelspec": {
   "display_name": "Python 3",
   "language": "python",
   "name": "python3"
  },
  "language_info": {
   "codemirror_mode": {
    "name": "ipython",
    "version": 3
   },
   "file_extension": ".py",
   "mimetype": "text/x-python",
   "name": "python",
   "nbconvert_exporter": "python",
   "pygments_lexer": "ipython3",
   "version": "3.6.8"
  }
 },
 "nbformat": 4,
 "nbformat_minor": 2
}
